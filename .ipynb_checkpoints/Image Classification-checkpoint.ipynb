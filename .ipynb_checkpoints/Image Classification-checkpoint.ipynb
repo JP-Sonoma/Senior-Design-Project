{
 "cells": [
  {
   "cell_type": "code",
   "execution_count": 8,
   "id": "9344ae14-21f9-4796-ac9d-8ffafdd1c8df",
   "metadata": {
    "tags": []
   },
   "outputs": [
    {
     "name": "stdout",
     "output_type": "stream",
     "text": [
      "Users\\perez\\Downloads\\Dataset-20231115T204512Z-001\\Dataset\n"
     ]
    }
   ],
   "source": [
    "from PIL import Image\n",
    "import numpy as np\n",
    "import sys\n",
    "import os\n",
    "import csv\n",
    "# default format can be changed as needed\n",
    "def createFileList(myDir, format='.jpg'):\n",
    "    fileList = []\n",
    "    print(myDir)\n",
    "    labels = []\n",
    "    names = []\n",
    "    keywords = {\"U\" : \"0\",\"D\" : \"1\",\"Le\" : \"2\",\"R\" : \"3\",\"F\" : \"4\", \"B\":\"5\", \"T\" : \"6\", \"La\" : \"7\",} # keys and values to be changed as needed\n",
    "    for root, dirs, files in os.walk(myDir, topdown=True):\n",
    "        for name in files:\n",
    "            if name.endswith(format):\n",
    "                fullName = os.path.join(root, name)\n",
    "                fileList.append(fullName)\n",
    "            for keyword in keywords:\n",
    "                if keyword in name:\n",
    "                    labels.append(keywords[keyword])\n",
    "                else:\n",
    "                    continue\n",
    "            names.append(name)\n",
    "    return fileList, labels, names\n",
    "# load the original image\n",
    "myFileList, labels, names  = createFileList('Users\\perez\\Downloads\\Dataset-20231115T204512Z-001\\Dataset')\n",
    "i = 0\n",
    "for file in myFileList:\n",
    "    print(file)\n",
    "    img_file = Image.open(file)\n",
    "    # img_file.show()\n",
    "# get original image parameters...\n",
    "    width, height = img_file.size\n",
    "    format = img_file.format\n",
    "    mode = img_file.mode\n",
    "# Make image Greyscale\n",
    "    img_grey = img_file.convert('L')\n",
    "    #img_grey.save('result.png')\n",
    "    #img_grey.show()\n",
    "# Save Greyscale values\n",
    "    value = np.asarray(img_grey.getdata(), dtype=np.int).reshape((width, height))\n",
    "    value = value.flatten()\n",
    "    \n",
    "    value = np.append(value,labels[i])\n",
    "    i +=1\n",
    "    \n",
    "    print(value)\n",
    "    with open(\"name_you_want.csv\", 'a') as f:\n",
    "        writer = csv.writer(f)\n",
    "        writer.writerow(value)"
   ]
  },
  {
   "cell_type": "code",
   "execution_count": null,
   "id": "94b458bf-9838-472f-93b2-ad51dd5e4a6c",
   "metadata": {},
   "outputs": [],
   "source": []
  },
  {
   "cell_type": "code",
   "execution_count": null,
   "id": "f3977121-3a60-4a6c-891b-f100beccd3a8",
   "metadata": {},
   "outputs": [],
   "source": []
  },
  {
   "cell_type": "code",
   "execution_count": null,
   "id": "3e997fd7-af54-4e3d-94ce-36c07a4bf5d5",
   "metadata": {},
   "outputs": [],
   "source": []
  }
 ],
 "metadata": {
  "kernelspec": {
   "display_name": "Python 3 (ipykernel)",
   "language": "python",
   "name": "python3"
  },
  "language_info": {
   "codemirror_mode": {
    "name": "ipython",
    "version": 3
   },
   "file_extension": ".py",
   "mimetype": "text/x-python",
   "name": "python",
   "nbconvert_exporter": "python",
   "pygments_lexer": "ipython3",
   "version": "3.11.5"
  }
 },
 "nbformat": 4,
 "nbformat_minor": 5
}
