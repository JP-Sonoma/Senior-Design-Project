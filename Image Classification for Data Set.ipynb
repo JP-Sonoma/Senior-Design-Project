{
 "cells": [
  {
   "cell_type": "code",
   "execution_count": 3,
   "id": "a27ce531-9c1c-4eae-b70a-f6e7e205af52",
   "metadata": {
    "scrolled": true,
    "tags": []
   },
   "outputs": [
    {
     "name": "stdout",
     "output_type": "stream",
     "text": [
      "Collecting pandas\n",
      "  Downloading pandas-2.1.3-cp311-cp311-win_amd64.whl.metadata (18 kB)\n",
      "Requirement already satisfied: numpy<2,>=1.23.2 in c:\\users\\perez\\appdata\\local\\programs\\python\\python311\\lib\\site-packages (from pandas) (1.24.4)\n",
      "Requirement already satisfied: python-dateutil>=2.8.2 in c:\\users\\perez\\appdata\\local\\programs\\python\\python311\\lib\\site-packages (from pandas) (2.8.2)\n",
      "Collecting pytz>=2020.1 (from pandas)\n",
      "  Downloading pytz-2023.3.post1-py2.py3-none-any.whl.metadata (22 kB)\n",
      "Collecting tzdata>=2022.1 (from pandas)\n",
      "  Downloading tzdata-2023.3-py2.py3-none-any.whl (341 kB)\n",
      "     ---------------------------------------- 0.0/341.8 kB ? eta -:--:--\n",
      "     ----------------------------- -------- 266.2/341.8 kB 8.3 MB/s eta 0:00:01\n",
      "     -------------------------------------- 341.8/341.8 kB 5.3 MB/s eta 0:00:00\n",
      "Requirement already satisfied: six>=1.5 in c:\\users\\perez\\appdata\\local\\programs\\python\\python311\\lib\\site-packages (from python-dateutil>=2.8.2->pandas) (1.16.0)\n",
      "Downloading pandas-2.1.3-cp311-cp311-win_amd64.whl (10.6 MB)\n",
      "   ---------------------------------------- 0.0/10.6 MB ? eta -:--:--\n",
      "   - -------------------------------------- 0.4/10.6 MB 7.8 MB/s eta 0:00:02\n",
      "   -- ------------------------------------- 0.8/10.6 MB 8.0 MB/s eta 0:00:02\n",
      "   ---- ----------------------------------- 1.1/10.6 MB 7.7 MB/s eta 0:00:02\n",
      "   ----- ---------------------------------- 1.5/10.6 MB 8.1 MB/s eta 0:00:02\n",
      "   ------ --------------------------------- 1.7/10.6 MB 7.3 MB/s eta 0:00:02\n",
      "   ------- -------------------------------- 2.1/10.6 MB 7.4 MB/s eta 0:00:02\n",
      "   --------- ------------------------------ 2.5/10.6 MB 7.5 MB/s eta 0:00:02\n",
      "   ---------- ----------------------------- 2.9/10.6 MB 7.6 MB/s eta 0:00:02\n",
      "   ------------ --------------------------- 3.3/10.6 MB 7.7 MB/s eta 0:00:01\n",
      "   ------------- -------------------------- 3.7/10.6 MB 7.8 MB/s eta 0:00:01\n",
      "   --------------- ------------------------ 4.0/10.6 MB 7.8 MB/s eta 0:00:01\n",
      "   ---------------- ----------------------- 4.4/10.6 MB 7.9 MB/s eta 0:00:01\n",
      "   ------------------ --------------------- 4.8/10.6 MB 7.9 MB/s eta 0:00:01\n",
      "   ------------------- -------------------- 5.2/10.6 MB 8.0 MB/s eta 0:00:01\n",
      "   --------------------- ------------------ 5.6/10.6 MB 8.0 MB/s eta 0:00:01\n",
      "   ---------------------- ----------------- 6.0/10.6 MB 8.0 MB/s eta 0:00:01\n",
      "   ------------------------ --------------- 6.4/10.6 MB 8.0 MB/s eta 0:00:01\n",
      "   ------------------------- -------------- 6.8/10.6 MB 8.1 MB/s eta 0:00:01\n",
      "   --------------------------- ------------ 7.2/10.6 MB 8.1 MB/s eta 0:00:01\n",
      "   ---------------------------- ----------- 7.6/10.6 MB 8.1 MB/s eta 0:00:01\n",
      "   ----------------------------- ---------- 7.9/10.6 MB 8.1 MB/s eta 0:00:01\n",
      "   ------------------------------- -------- 8.4/10.6 MB 8.1 MB/s eta 0:00:01\n",
      "   --------------------------------- ------ 8.8/10.6 MB 8.1 MB/s eta 0:00:01\n",
      "   ---------------------------------- ----- 9.2/10.6 MB 8.1 MB/s eta 0:00:01\n",
      "   ------------------------------------ --- 9.6/10.6 MB 8.2 MB/s eta 0:00:01\n",
      "   ------------------------------------- -- 10.0/10.6 MB 8.2 MB/s eta 0:00:01\n",
      "   -------------------------------------- - 10.3/10.6 MB 8.2 MB/s eta 0:00:01\n",
      "   ---------------------------------------  10.6/10.6 MB 8.2 MB/s eta 0:00:01\n",
      "   ---------------------------------------- 10.6/10.6 MB 8.0 MB/s eta 0:00:00\n",
      "Downloading pytz-2023.3.post1-py2.py3-none-any.whl (502 kB)\n",
      "   ---------------------------------------- 0.0/502.5 kB ? eta -:--:--\n",
      "   ------------------------- -------------- 317.4/502.5 kB 6.5 MB/s eta 0:00:01\n",
      "   ---------------------------------------- 502.5/502.5 kB 6.3 MB/s eta 0:00:00\n",
      "Installing collected packages: pytz, tzdata, pandas\n",
      "Successfully installed pandas-2.1.3 pytz-2023.3.post1 tzdata-2023.3\n"
     ]
    },
    {
     "name": "stderr",
     "output_type": "stream",
     "text": [
      "ERROR: pip's dependency resolver does not currently take into account all the packages that are installed. This behaviour is the source of the following dependency conflicts.\n",
      "ultralytics 8.0.215 requires py-cpuinfo, which is not installed.\n",
      "ultralytics 8.0.215 requires seaborn>=0.11.0, which is not installed.\n",
      "ultralytics 8.0.215 requires tqdm>=4.64.0, which is not installed.\n"
     ]
    }
   ],
   "source": [
    "!pip3 install pandas"
   ]
  },
  {
   "cell_type": "code",
   "execution_count": 4,
   "id": "74ce1ef6-ad62-4748-a61e-4e3b5100b49e",
   "metadata": {
    "tags": []
   },
   "outputs": [],
   "source": [
    "from tensorflow.keras.layers import Input, Lambda, Dense, Flatten,Dropout\n",
    "from tensorflow.keras.models import Model\n",
    "from tensorflow.keras.applications.vgg19 import VGG19\n",
    "from tensorflow.keras.applications.vgg19 import preprocess_input\n",
    "from tensorflow.keras.preprocessing import image\n",
    "from tensorflow.keras.preprocessing.image import ImageDataGenerator\n",
    "from tensorflow.keras.models import Sequential\n",
    "import numpy as np\n",
    "import pandas as pd\n",
    "import os\n",
    "import cv2\n",
    "import matplotlib.pyplot as plt"
   ]
  },
  {
   "cell_type": "code",
   "execution_count": 23,
   "id": "bb99c3f5-3e56-456a-a75d-47f4f6f6c7af",
   "metadata": {},
   "outputs": [],
   "source": [
    "train_path='C:\\\\Users\\\\manue\\\\OneDrive - Sonoma.edu\\\\Desktop\\\\hand gestures\\\\train'\n",
    "test_path='C:\\\\Users\\\\manue\\\\OneDrive - Sonoma.edu\\\\Desktop\\\\hand gestures\\\\test'\n",
    "val_path='C:\\\\Users\\\\manue\\\\OneDrive - Sonoma.edu\\\\Desktop\\\\hand gestures\\\\val'\n",
    "x_train=[]\n",
    "\n",
    "for folder in os.listdir(train_path):\n",
    "\n",
    "    sub_path=train_path+\"/\"+folder\n",
    "\n",
    "    for img in os.listdir(sub_path):\n",
    "\n",
    "        image_path=sub_path+\"/\"+img\n",
    "\n",
    "        img_arr=cv2.imread(image_path)\n",
    "\n",
    "        img_arr=cv2.resize(img_arr,(224,224))\n",
    "\n",
    "        x_train.append(img_arr)\n",
    "\n",
    "x_test=[]\n",
    "\n",
    "for folder in os.listdir(test_path):\n",
    "\n",
    "    sub_path=test_path+\"/\"+folder\n",
    "\n",
    "    for img in os.listdir(sub_path):\n",
    "\n",
    "        image_path=sub_path+\"/\"+img\n",
    "\n",
    "        img_arr=cv2.imread(image_path)\n",
    "\n",
    "        img_arr=cv2.resize(img_arr,(224,224))\n",
    "\n",
    "        x_test.append(img_arr)\n",
    "\n",
    "x_val=[]\n",
    "\n",
    "for folder in os.listdir(val_path):\n",
    "\n",
    "    sub_path=val_path+\"/\"+folder\n",
    "\n",
    "    for img in os.listdir(sub_path):\n",
    "\n",
    "        image_path=sub_path+\"/\"+img\n",
    "\n",
    "        img_arr=cv2.imread(image_path)\n",
    "\n",
    "        img_arr=cv2.resize(img_arr,(224,224))\n",
    "\n",
    "        x_val.append(img_arr)"
   ]
  },
  {
   "cell_type": "code",
   "execution_count": 24,
   "id": "da0c3400-54b5-4d43-b17d-c34e91bb2798",
   "metadata": {},
   "outputs": [],
   "source": [
    "train_x=np.array(x_train)\n",
    "test_x=np.array(x_test)\n",
    "val_x=np.array(x_val)\n",
    "train_x=train_x/255.0\n",
    "test_x=test_x/255.0\n",
    "val_x=val_x/255.0"
   ]
  },
  {
   "cell_type": "code",
   "execution_count": 25,
   "id": "989a5b22-f955-4a2e-99e7-f38020b719c3",
   "metadata": {},
   "outputs": [],
   "source": [
    "train_datagen = ImageDataGenerator(rescale = 1./255)\n",
    "test_datagen = ImageDataGenerator(rescale = 1./255)\n",
    "val_datagen = ImageDataGenerator(rescale = 1./255)"
   ]
  },
  {
   "cell_type": "code",
   "execution_count": 26,
   "id": "97ed28c5-64cd-4f9e-ae55-546ac85cdc6d",
   "metadata": {},
   "outputs": [
    {
     "name": "stdout",
     "output_type": "stream",
     "text": [
      "Found 1202 images belonging to 8 classes.\n",
      "Found 376 images belonging to 8 classes.\n",
      "Found 301 images belonging to 8 classes.\n"
     ]
    }
   ],
   "source": [
    "training_set = train_datagen.flow_from_directory(train_path,\n",
    "                                                 target_size = (224, 224),\n",
    "                                                 batch_size = 32,\n",
    "                                                 class_mode = 'sparse')\n",
    "test_set = test_datagen.flow_from_directory(test_path,\n",
    "                                            target_size = (224, 224),\n",
    "                                            batch_size = 32,\n",
    "                                            class_mode = 'sparse')\n",
    "val_set = val_datagen.flow_from_directory(val_path,\n",
    "                                            target_size = (224, 224),\n",
    "                                            batch_size = 32,\n",
    "                                            class_mode = 'sparse')"
   ]
  },
  {
   "cell_type": "code",
   "execution_count": 27,
   "id": "ce2a3a9c-4387-4479-9ce0-c3f004e8137e",
   "metadata": {},
   "outputs": [],
   "source": [
    "train_y=training_set.classes\n",
    "test_y=test_set.classes\n",
    "val_y=val_set.classes"
   ]
  },
  {
   "cell_type": "code",
   "execution_count": 28,
   "id": "c358939b-d2eb-4750-a739-0af91b0b2277",
   "metadata": {},
   "outputs": [
    {
     "data": {
      "text/plain": [
       "((1202,), (376,), (301,))"
      ]
     },
     "execution_count": 28,
     "metadata": {},
     "output_type": "execute_result"
    }
   ],
   "source": [
    "training_set.class_indices\n",
    "train_y.shape,test_y.shape,val_y.shape"
   ]
  },
  {
   "cell_type": "code",
   "execution_count": 29,
   "id": "c1e0f21f-56ae-4eec-9c14-5c992d5c519d",
   "metadata": {},
   "outputs": [],
   "source": [
    "IMAGE_SIZE = (224, 224)"
   ]
  },
  {
   "cell_type": "code",
   "execution_count": 35,
   "id": "3b1f6c62-1f3a-4b44-b6f3-4ce8fc1ea740",
   "metadata": {},
   "outputs": [],
   "source": [
    "input_shape = IMAGE_SIZE + (3,)"
   ]
  },
  {
   "cell_type": "code",
   "execution_count": 36,
   "id": "cd3172d6-ecf0-457e-87b2-45df8203c322",
   "metadata": {},
   "outputs": [],
   "source": [
    "vgg = VGG19(input_shape=input_shape, weights='imagenet', include_top=False)"
   ]
  },
  {
   "cell_type": "code",
   "execution_count": 37,
   "id": "cf1b96f8-268e-4c90-9049-9d6ef11fc9f9",
   "metadata": {},
   "outputs": [],
   "source": [
    "x = Flatten()(vgg.output)"
   ]
  },
  {
   "cell_type": "code",
   "execution_count": 38,
   "id": "6ffd0fdf-f158-4fce-bd75-858881a89d02",
   "metadata": {},
   "outputs": [],
   "source": [
    "#adding output layer.Softmax classifier is used as it is multi-class classification\n",
    "prediction = Dense(8, activation='softmax')(x)\n",
    "\n",
    "model = Model(inputs=vgg.input, outputs=prediction)"
   ]
  },
  {
   "cell_type": "code",
   "execution_count": 39,
   "id": "bae64120-2e53-43ff-8501-ad00cbf6a518",
   "metadata": {},
   "outputs": [
    {
     "name": "stdout",
     "output_type": "stream",
     "text": [
      "Model: \"model_1\"\n",
      "_________________________________________________________________\n",
      " Layer (type)                Output Shape              Param #   \n",
      "=================================================================\n",
      " input_2 (InputLayer)        [(None, 224, 224, 3)]     0         \n",
      "                                                                 \n",
      " block1_conv1 (Conv2D)       (None, 224, 224, 64)      1792      \n",
      "                                                                 \n",
      " block1_conv2 (Conv2D)       (None, 224, 224, 64)      36928     \n",
      "                                                                 \n",
      " block1_pool (MaxPooling2D)  (None, 112, 112, 64)      0         \n",
      "                                                                 \n",
      " block2_conv1 (Conv2D)       (None, 112, 112, 128)     73856     \n",
      "                                                                 \n",
      " block2_conv2 (Conv2D)       (None, 112, 112, 128)     147584    \n",
      "                                                                 \n",
      " block2_pool (MaxPooling2D)  (None, 56, 56, 128)       0         \n",
      "                                                                 \n",
      " block3_conv1 (Conv2D)       (None, 56, 56, 256)       295168    \n",
      "                                                                 \n",
      " block3_conv2 (Conv2D)       (None, 56, 56, 256)       590080    \n",
      "                                                                 \n",
      " block3_conv3 (Conv2D)       (None, 56, 56, 256)       590080    \n",
      "                                                                 \n",
      " block3_conv4 (Conv2D)       (None, 56, 56, 256)       590080    \n",
      "                                                                 \n",
      " block3_pool (MaxPooling2D)  (None, 28, 28, 256)       0         \n",
      "                                                                 \n",
      " block4_conv1 (Conv2D)       (None, 28, 28, 512)       1180160   \n",
      "                                                                 \n",
      " block4_conv2 (Conv2D)       (None, 28, 28, 512)       2359808   \n",
      "                                                                 \n",
      " block4_conv3 (Conv2D)       (None, 28, 28, 512)       2359808   \n",
      "                                                                 \n",
      " block4_conv4 (Conv2D)       (None, 28, 28, 512)       2359808   \n",
      "                                                                 \n",
      " block4_pool (MaxPooling2D)  (None, 14, 14, 512)       0         \n",
      "                                                                 \n",
      " block5_conv1 (Conv2D)       (None, 14, 14, 512)       2359808   \n",
      "                                                                 \n",
      " block5_conv2 (Conv2D)       (None, 14, 14, 512)       2359808   \n",
      "                                                                 \n",
      " block5_conv3 (Conv2D)       (None, 14, 14, 512)       2359808   \n",
      "                                                                 \n",
      " block5_conv4 (Conv2D)       (None, 14, 14, 512)       2359808   \n",
      "                                                                 \n",
      " block5_pool (MaxPooling2D)  (None, 7, 7, 512)         0         \n",
      "                                                                 \n",
      " flatten_1 (Flatten)         (None, 25088)             0         \n",
      "                                                                 \n",
      " dense_1 (Dense)             (None, 8)                 200712    \n",
      "                                                                 \n",
      "=================================================================\n",
      "Total params: 20225096 (77.15 MB)\n",
      "Trainable params: 20225096 (77.15 MB)\n",
      "Non-trainable params: 0 (0.00 Byte)\n",
      "_________________________________________________________________\n"
     ]
    }
   ],
   "source": [
    "# view the structure of the model\n",
    "model.summary()"
   ]
  },
  {
   "cell_type": "code",
   "execution_count": 40,
   "id": "f35a4cbe-46cc-4382-993f-f6f8036386b6",
   "metadata": {},
   "outputs": [],
   "source": [
    "model.compile(\n",
    "  loss='sparse_categorical_crossentropy',\n",
    "  optimizer=\"adam\",\n",
    "  metrics=['accuracy']\n",
    ")"
   ]
  },
  {
   "cell_type": "code",
   "execution_count": 41,
   "id": "3687812a-4c76-4e5d-867b-2a108d93e9a6",
   "metadata": {},
   "outputs": [],
   "source": [
    "from tensorflow.keras.callbacks import EarlyStopping\n",
    "early_stop=EarlyStopping(monitor='val_loss',mode='min',verbose=1,patience=5)\n",
    "#Early stopping to avoid overfitting of model"
   ]
  },
  {
   "cell_type": "code",
   "execution_count": null,
   "id": "8df5fea7-372b-4960-87ea-ad5412d0607a",
   "metadata": {
    "scrolled": true
   },
   "outputs": [
    {
     "name": "stdout",
     "output_type": "stream",
     "text": [
      "Epoch 1/5\n",
      " 5/38 [==>...........................] - ETA: 20:16 - loss: 13.1087 - accuracy: 0.1562"
     ]
    }
   ],
   "source": [
    "# fit the model\n",
    "history = model.fit(\n",
    "  train_x,\n",
    "  train_y,\n",
    "  validation_data=(val_x,val_y),\n",
    "  epochs=5,\n",
    "  callbacks=[early_stop],\n",
    "  batch_size=32,shuffle=True)"
   ]
  },
  {
   "cell_type": "code",
   "execution_count": 17,
   "id": "5e9443a3-19ef-4662-ba94-e8f8d0141a03",
   "metadata": {},
   "outputs": [
    {
     "data": {
      "image/png": "[encoded data removed]",
      "text/plain": [
       "<Figure size 640x480 with 1 Axes>"
      ]
     },
     "metadata": {},
     "output_type": "display_data"
    }
   ],
   "source": [
    "# accuracies\n",
    "\n",
    "plt.plot(history.history['accuracy'], label='train acc')\n",
    "\n",
    "plt.plot(history.history['val_accuracy'], label='val acc')\n",
    "\n",
    "plt.legend()\n",
    "\n",
    "plt.savefig('vgg-acc-rps-1.png')\n",
    "                                  \n",
    "plt.show()"
   ]
  },
  {
   "cell_type": "code",
   "execution_count": 18,
   "id": "7632b389-8024-4fa1-a2e9-fcd2c71a15a4",
   "metadata": {},
   "outputs": [
    {
     "data": {
      "image/png": "[encoded data removed]",
      "text/plain": [
       "<Figure size 640x480 with 1 Axes>"
      ]
     },
     "metadata": {},
     "output_type": "display_data"
    }
   ],
   "source": [
    "# loss\n",
    "plt.plot(history.history['loss'], label='train loss')\n",
    "plt.plot(history.history['val_loss'], label='val loss')\n",
    "plt.legend()\n",
    "plt.savefig('vgg-loss-rps-1.png')\n",
    "plt.show()"
   ]
  },
  {
   "cell_type": "code",
   "execution_count": 19,
   "id": "43a27268-8629-4767-a9ff-7acf7f2dac02",
   "metadata": {},
   "outputs": [
    {
     "name": "stdout",
     "output_type": "stream",
     "text": [
      "12/12 [==============================] - 111s 9s/step - loss: 2.0794 - accuracy: 0.1277\n"
     ]
    },
    {
     "data": {
      "text/plain": [
       "[2.0793678760528564, 0.12765957415103912]"
      ]
     },
     "execution_count": 19,
     "metadata": {},
     "output_type": "execute_result"
    }
   ],
   "source": [
    "model.evaluate(test_x,test_y,batch_size=32)"
   ]
  },
  {
   "cell_type": "code",
   "execution_count": 20,
   "id": "aed4797f-fc8d-4f9b-9580-ad866c9a2e8c",
   "metadata": {},
   "outputs": [],
   "source": [
    "from sklearn.metrics import accuracy_score,classification_report,confusion_matrix\n",
    "import numpy as np"
   ]
  },
  {
   "cell_type": "code",
   "execution_count": 21,
   "id": "c9fc4ad8-9961-4407-98c3-f24705be5896",
   "metadata": {},
   "outputs": [
    {
     "name": "stdout",
     "output_type": "stream",
     "text": [
      "12/12 [==============================] - 112s 9s/step\n",
      "              precision    recall  f1-score   support\n",
      "\n",
      "           0       0.00      0.00      0.00         0\n",
      "           1       0.00      0.00      0.00         0\n",
      "           2       0.00      0.00      0.00         0\n",
      "           3       0.00      0.00      0.00         0\n",
      "           4       1.00      0.13      0.23       376\n",
      "           5       0.00      0.00      0.00         0\n",
      "           6       0.00      0.00      0.00         0\n",
      "           7       0.00      0.00      0.00         0\n",
      "\n",
      "    accuracy                           0.13       376\n",
      "   macro avg       0.12      0.02      0.03       376\n",
      "weighted avg       1.00      0.13      0.23       376\n",
      "\n",
      "[[ 0  0  0  0  0  0  0  0]\n",
      " [ 0  0  0  0  0  0  0  0]\n",
      " [ 0  0  0  0  0  0  0  0]\n",
      " [ 0  0  0  0  0  0  0  0]\n",
      " [46 46 47 48 48 47 47 47]\n",
      " [ 0  0  0  0  0  0  0  0]\n",
      " [ 0  0  0  0  0  0  0  0]\n",
      " [ 0  0  0  0  0  0  0  0]]\n"
     ]
    }
   ],
   "source": [
    "#predict\n",
    "y_pred=model.predict(test_x)\n",
    "y_pred=np.argmax(y_pred,axis=1)\n",
    "#get classification report\n",
    "print(classification_report(y_pred, test_y, zero_division = 0))\n",
    "#get confusion matrix\n",
    "print(confusion_matrix(y_pred,test_y))"
   ]
  },
  {
   "cell_type": "code",
   "execution_count": null,
   "id": "e8561a73-aa7f-44d6-a453-87d85ee09617",
   "metadata": {},
   "outputs": [],
   "source": []
  }
 ],
 "metadata": {
  "kernelspec": {
   "display_name": "Python 3 (ipykernel)",
   "language": "python",
   "name": "python3"
  },
  "language_info": {
   "codemirror_mode": {
    "name": "ipython",
    "version": 3
   },
   "file_extension": ".py",
   "mimetype": "text/x-python",
   "name": "python",
   "nbconvert_exporter": "python",
   "pygments_lexer": "ipython3",
   "version": "3.11.5"
  }
 },
 "nbformat": 4,
 "nbformat_minor": 5
}
