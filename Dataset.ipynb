{
 "cells": [
  {
   "cell_type": "code",
   "execution_count": 1,
   "id": "12de9434-6fab-4b97-b859-68e525b8e7b1",
   "metadata": {},
   "outputs": [],
   "source": [
    "#importing opencv and os modules\n",
    "import cv2 as cv\n",
    "import os "
   ]
  },
  {
   "cell_type": "code",
   "execution_count": 2,
   "id": "5f24a82d-0059-471a-9f3b-c21c7a57de48",
   "metadata": {},
   "outputs": [],
   "source": [
    "#argument 0 is given to use the default camera of the laptop\n",
    "camera = cv.VideoCapture(0)\n",
    "#Now check if the camera object is created successfully\n",
    "if not camera.isOpened():\n",
    "    print(\"The Camera is not Opened....Exiting\")\n",
    "    exit()"
   ]
  },
  {
   "cell_type": "code",
   "execution_count": 3,
   "id": "85ab3899-2358-4666-b8d8-da4de682b652",
   "metadata": {},
   "outputs": [],
   "source": [
    "#creating a list of lables \"You could add as many you want\"\n",
    "Labels = [\"Up\", \"Down\", \"Left\", \"Right\", \"Foward\", \"Back\", \"Land\", \"360\"]\n",
    "#Now create folders for each label to store images\n",
    "for label in Labels:\n",
    "    if not os.path.exists(label):\n",
    "        os.mkdir(label)\n"
   ]
  },
  {
   "cell_type": "code",
   "execution_count": 4,
   "id": "bde84589-7c00-466a-9fdb-b8fc767c18b7",
   "metadata": {},
   "outputs": [
    {
     "name": "stdout",
     "output_type": "stream",
     "text": [
      "Press 's' to start data collection forUp\n"
     ]
    },
    {
     "name": "stdin",
     "output_type": "stream",
     "text": [
      " s\n"
     ]
    },
    {
     "name": "stdout",
     "output_type": "stream",
     "text": [
      "Press 's' to start data collection forDown\n"
     ]
    },
    {
     "name": "stdin",
     "output_type": "stream",
     "text": [
      " s\n"
     ]
    },
    {
     "name": "stdout",
     "output_type": "stream",
     "text": [
      "Press 's' to start data collection forLeft\n"
     ]
    },
    {
     "name": "stdin",
     "output_type": "stream",
     "text": [
      " s\n"
     ]
    },
    {
     "name": "stdout",
     "output_type": "stream",
     "text": [
      "Press 's' to start data collection forRight\n"
     ]
    },
    {
     "name": "stdin",
     "output_type": "stream",
     "text": [
      " s\n"
     ]
    },
    {
     "name": "stdout",
     "output_type": "stream",
     "text": [
      "Press 's' to start data collection forFoward\n"
     ]
    },
    {
     "name": "stdin",
     "output_type": "stream",
     "text": [
      " s\n"
     ]
    },
    {
     "name": "stdout",
     "output_type": "stream",
     "text": [
      "Press 's' to start data collection forBack\n"
     ]
    },
    {
     "name": "stdin",
     "output_type": "stream",
     "text": [
      " s\n"
     ]
    },
    {
     "name": "stdout",
     "output_type": "stream",
     "text": [
      "Press 's' to start data collection forLand\n"
     ]
    },
    {
     "name": "stdin",
     "output_type": "stream",
     "text": [
      " s\n"
     ]
    },
    {
     "name": "stdout",
     "output_type": "stream",
     "text": [
      "Press 's' to start data collection for360\n"
     ]
    },
    {
     "name": "stdin",
     "output_type": "stream",
     "text": [
      " s\n"
     ]
    }
   ],
   "source": [
    "for folder in Labels:\n",
    "    #using count variable to name the images in the dataset.\n",
    "    count = 0\n",
    "    #Taking input to start the capturing\n",
    "    print(\"Press 's' to start data collection for\"+folder)\n",
    "    userinput = input()\n",
    "    if userinput != 's':\n",
    "        print(\"Wrong Input..........\")\n",
    "        exit()\n",
    "    #clicking 200 images per label, you could change as you want.    \n",
    "    while count<200:\n",
    "        #read returns two values one is the exit code and other is the frame\n",
    "        status, frame = camera.read()\n",
    "        #check if we get the frame or not\n",
    "        if not status:\n",
    "            print(\"Frame is not been captured..Exiting...\")\n",
    "            break\n",
    "        #convert the image into gray format for fast caculation\n",
    "        gray = cv.cvtColor(frame, cv.COLOR_BGR2GRAY)\n",
    "        #display window with gray image\n",
    "        cv.imshow(\"Video Window\",gray)\n",
    "        #resizing the image to store it\n",
    "        gray = cv.resize(gray, (1025,765))\n",
    "        #Store the image to specific label folder\n",
    "        cv.imwrite('C:\\\\Users\\\\manue\\\\OneDrive - Sonoma.edu\\\\Desktop\\\\hand gestures\\\\'+folder+'/img'+str(count)+'.png',gray)\n",
    "        count=count+1\n",
    "        #to quite the display window press 'q'\n",
    "        if cv.waitKey(1) == ord('q'):\n",
    "            break\n",
    "# When everything done, release the capture\n",
    "camera.release()\n",
    "cv.destroyAllWindows()"
   ]
  },
  {
   "cell_type": "code",
   "execution_count": null,
   "id": "788e9291-f54b-4fe0-938a-9ae9e1942b17",
   "metadata": {},
   "outputs": [],
   "source": []
  },
  {
   "cell_type": "code",
   "execution_count": null,
   "id": "10279de1-0763-4d58-b913-07016956237a",
   "metadata": {},
   "outputs": [],
   "source": []
  }
 ],
 "metadata": {
  "kernelspec": {
   "display_name": "Python 3 (ipykernel)",
   "language": "python",
   "name": "python3"
  },
  "language_info": {
   "codemirror_mode": {
    "name": "ipython",
    "version": 3
   },
   "file_extension": ".py",
   "mimetype": "text/x-python",
   "name": "python",
   "nbconvert_exporter": "python",
   "pygments_lexer": "ipython3",
   "version": "3.11.0"
  }
 },
 "nbformat": 4,
 "nbformat_minor": 5
}
